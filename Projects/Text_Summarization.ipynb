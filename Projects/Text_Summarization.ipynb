{
  "nbformat": 4,
  "nbformat_minor": 0,
  "metadata": {
    "colab": {
      "provenance": []
    },
    "kernelspec": {
      "name": "python3",
      "display_name": "Python 3"
    },
    "language_info": {
      "name": "python"
    }
  },
  "cells": [
    {
      "cell_type": "code",
      "execution_count": 123,
      "metadata": {
        "id": "ySjg4GqqVmR5"
      },
      "outputs": [],
      "source": [
        "text = \"\"\"Maria Sharapova born 19 April 1987 is a Russian former world No. 1 tennis player.\n",
        "She competed on the WTA Tour from 2001 to 2020 and was ranked world No. 1 in singles by the Women's Tennis Association for 21 weeks.\n",
        "She is one of ten women to achieve the career Grand Slam.\n",
        "She is also an Olympic medalist, having won silver in women's singles at the 2012 London Olympics.\n",
        "She has been considered as one of the best tennis competitors of her generation.\n",
        "Sharapova became the world No. 1 for the first time on 22 August 2005 at the age of 18, becoming the first Russian woman to top the singles rankings, and last held the position on 8 July 2012.\n",
        "She won five major titles — two at the French Open and one each at the Australian Open, Wimbledon, and the US Open. She won 36 titles in total, including the year-end championships on her debut in 2004.\n",
        "She also won three doubles titles. Although she played under the banner of Russia with the WTA, she has lived in and been a United States permanent resident since 1994.\"\"\""
      ]
    },
    {
      "cell_type": "code",
      "source": [],
      "metadata": {
        "id": "ZrSO3IrKcyad"
      },
      "execution_count": 123,
      "outputs": []
    },
    {
      "cell_type": "code",
      "source": [
        "print(len(text))"
      ],
      "metadata": {
        "colab": {
          "base_uri": "https://localhost:8080/"
        },
        "id": "QTTsDz16VvwV",
        "outputId": "219a0958-485f-4dcd-d246-edbe8b20d845"
      },
      "execution_count": 124,
      "outputs": [
        {
          "output_type": "stream",
          "name": "stdout",
          "text": [
            "1022\n"
          ]
        }
      ]
    },
    {
      "cell_type": "markdown",
      "source": [
        "Importing the libraries and Dataset"
      ],
      "metadata": {
        "id": "Dsmpx-XIWdZv"
      }
    },
    {
      "cell_type": "code",
      "source": [],
      "metadata": {
        "id": "7RfisQ3AVvuB"
      },
      "execution_count": 124,
      "outputs": []
    },
    {
      "cell_type": "code",
      "source": [
        "import spacy\n",
        "from spacy.lang.en.stop_words import STOP_WORDS\n",
        "from string import punctuation"
      ],
      "metadata": {
        "id": "sULrV-96Vvq9"
      },
      "execution_count": 125,
      "outputs": []
    },
    {
      "cell_type": "code",
      "source": [
        "nlp =spacy.load('en_core_web_sm')"
      ],
      "metadata": {
        "id": "RpI4f9fJVvoN"
      },
      "execution_count": 126,
      "outputs": []
    },
    {
      "cell_type": "code",
      "source": [
        "doc = nlp(text)"
      ],
      "metadata": {
        "id": "eVYhOGK-V-Sy"
      },
      "execution_count": 127,
      "outputs": []
    },
    {
      "cell_type": "code",
      "source": [
        "tokens = [token.text for token in doc]"
      ],
      "metadata": {
        "id": "N1ZmALOcV-P6"
      },
      "execution_count": 128,
      "outputs": []
    },
    {
      "cell_type": "code",
      "source": [
        "punctuation + '\\n' + \"'\"\n",
        "# punctuation"
      ],
      "metadata": {
        "colab": {
          "base_uri": "https://localhost:8080/",
          "height": 35
        },
        "id": "BHiHhyrXV-NC",
        "outputId": "fec51a3d-b7bb-43d2-c639-956eac93c25f"
      },
      "execution_count": 129,
      "outputs": [
        {
          "output_type": "execute_result",
          "data": {
            "text/plain": [
              "'!\"#$%&\\'()*+,-./:;<=>?@[\\\\]^_`{|}~\\n\\''"
            ],
            "application/vnd.google.colaboratory.intrinsic+json": {
              "type": "string"
            }
          },
          "metadata": {},
          "execution_count": 129
        }
      ]
    },
    {
      "cell_type": "code",
      "source": [],
      "metadata": {
        "id": "FolvYh-bWW1v"
      },
      "execution_count": 129,
      "outputs": []
    },
    {
      "cell_type": "markdown",
      "source": [
        "Text Cleaning"
      ],
      "metadata": {
        "id": "DQKG2_ZtWiwv"
      }
    },
    {
      "cell_type": "code",
      "source": [
        "word_freq = {}\n",
        "\n",
        "stop_words = list(STOP_WORDS)\n",
        "\n",
        "for word in doc:\n",
        "  if word.text.lower() not in stop_words:\n",
        "    if word.text.lower() not in punctuation:\n",
        "      if word.text not in word_freq.keys():\n",
        "        word_freq[word.text] = 1\n",
        "      else:\n",
        "        word_freq[word.text] += 1\n",
        "\n",
        "\n",
        "print(word_freq)"
      ],
      "metadata": {
        "colab": {
          "base_uri": "https://localhost:8080/"
        },
        "id": "-iECuG1CWWz9",
        "outputId": "2230b980-6681-4243-daea-df4fac197e44"
      },
      "execution_count": 130,
      "outputs": [
        {
          "output_type": "stream",
          "name": "stdout",
          "text": [
            "{'Maria': 1, 'Sharapova': 2, 'born': 1, '19': 1, 'April': 1, '1987': 1, 'Russian': 2, 'world': 3, '1': 3, 'tennis': 2, 'player': 1, '\\n': 7, 'competed': 1, 'WTA': 2, 'Tour': 1, '2001': 1, '2020': 1, 'ranked': 1, 'singles': 3, 'Women': 1, 'Tennis': 1, 'Association': 1, '21': 1, 'weeks': 1, 'women': 2, 'achieve': 1, 'career': 1, 'Grand': 1, 'Slam': 1, 'Olympic': 1, 'medalist': 1, 'having': 1, 'won': 4, 'silver': 1, '2012': 2, 'London': 1, 'Olympics': 1, 'considered': 1, 'best': 1, 'competitors': 1, 'generation': 1, 'time': 1, '22': 1, 'August': 1, '2005': 1, 'age': 1, '18': 1, 'woman': 1, 'rankings': 1, 'held': 1, 'position': 1, '8': 1, 'July': 1, 'major': 1, 'titles': 3, '—': 1, 'French': 1, 'Open': 3, 'Australian': 1, 'Wimbledon': 1, '36': 1, 'total': 1, 'including': 1, 'year': 1, 'end': 1, 'championships': 1, 'debut': 1, '2004': 1, 'doubles': 1, 'played': 1, 'banner': 1, 'Russia': 1, 'lived': 1, 'United': 1, 'States': 1, 'permanent': 1, 'resident': 1, '1994': 1}\n"
          ]
        }
      ]
    },
    {
      "cell_type": "code",
      "source": [
        "max_freq = max(word_freq.values())"
      ],
      "metadata": {
        "id": "AKHrb5lYWWw-"
      },
      "execution_count": 131,
      "outputs": []
    },
    {
      "cell_type": "code",
      "source": [
        "for word in word_freq.keys():\n",
        "  word_freq[word] = word_freq[word] / max_freq\n",
        "\n",
        "print(word_freq)"
      ],
      "metadata": {
        "colab": {
          "base_uri": "https://localhost:8080/"
        },
        "id": "_uGrawJLWWuF",
        "outputId": "28f0c3f9-e911-49f2-9ac6-7b14544464e3"
      },
      "execution_count": 132,
      "outputs": [
        {
          "output_type": "stream",
          "name": "stdout",
          "text": [
            "{'Maria': 0.14285714285714285, 'Sharapova': 0.2857142857142857, 'born': 0.14285714285714285, '19': 0.14285714285714285, 'April': 0.14285714285714285, '1987': 0.14285714285714285, 'Russian': 0.2857142857142857, 'world': 0.42857142857142855, '1': 0.42857142857142855, 'tennis': 0.2857142857142857, 'player': 0.14285714285714285, '\\n': 1.0, 'competed': 0.14285714285714285, 'WTA': 0.2857142857142857, 'Tour': 0.14285714285714285, '2001': 0.14285714285714285, '2020': 0.14285714285714285, 'ranked': 0.14285714285714285, 'singles': 0.42857142857142855, 'Women': 0.14285714285714285, 'Tennis': 0.14285714285714285, 'Association': 0.14285714285714285, '21': 0.14285714285714285, 'weeks': 0.14285714285714285, 'women': 0.2857142857142857, 'achieve': 0.14285714285714285, 'career': 0.14285714285714285, 'Grand': 0.14285714285714285, 'Slam': 0.14285714285714285, 'Olympic': 0.14285714285714285, 'medalist': 0.14285714285714285, 'having': 0.14285714285714285, 'won': 0.5714285714285714, 'silver': 0.14285714285714285, '2012': 0.2857142857142857, 'London': 0.14285714285714285, 'Olympics': 0.14285714285714285, 'considered': 0.14285714285714285, 'best': 0.14285714285714285, 'competitors': 0.14285714285714285, 'generation': 0.14285714285714285, 'time': 0.14285714285714285, '22': 0.14285714285714285, 'August': 0.14285714285714285, '2005': 0.14285714285714285, 'age': 0.14285714285714285, '18': 0.14285714285714285, 'woman': 0.14285714285714285, 'rankings': 0.14285714285714285, 'held': 0.14285714285714285, 'position': 0.14285714285714285, '8': 0.14285714285714285, 'July': 0.14285714285714285, 'major': 0.14285714285714285, 'titles': 0.42857142857142855, '—': 0.14285714285714285, 'French': 0.14285714285714285, 'Open': 0.42857142857142855, 'Australian': 0.14285714285714285, 'Wimbledon': 0.14285714285714285, '36': 0.14285714285714285, 'total': 0.14285714285714285, 'including': 0.14285714285714285, 'year': 0.14285714285714285, 'end': 0.14285714285714285, 'championships': 0.14285714285714285, 'debut': 0.14285714285714285, '2004': 0.14285714285714285, 'doubles': 0.14285714285714285, 'played': 0.14285714285714285, 'banner': 0.14285714285714285, 'Russia': 0.14285714285714285, 'lived': 0.14285714285714285, 'United': 0.14285714285714285, 'States': 0.14285714285714285, 'permanent': 0.14285714285714285, 'resident': 0.14285714285714285, '1994': 0.14285714285714285}\n"
          ]
        }
      ]
    },
    {
      "cell_type": "markdown",
      "source": [
        "Sentence Tokenization"
      ],
      "metadata": {
        "id": "WvWjYU17Ys1M"
      }
    },
    {
      "cell_type": "code",
      "source": [
        "sent_tokens = [sent for sent in doc.sents]\n",
        "print(sent_tokens)\n",
        "print(len(sent_tokens))"
      ],
      "metadata": {
        "colab": {
          "base_uri": "https://localhost:8080/"
        },
        "id": "ihtVOj8wWWmb",
        "outputId": "5237c78e-743d-4383-ddcf-151093a75b9b"
      },
      "execution_count": 133,
      "outputs": [
        {
          "output_type": "stream",
          "name": "stdout",
          "text": [
            "[Maria Sharapova born 19 April 1987 is a Russian former world No. 1 tennis player. \n",
            ", She competed on the WTA Tour from 2001 to 2020 and was ranked world No. 1 in singles by the Women's Tennis Association for 21 weeks.\n",
            ", She is one of ten women to achieve the career Grand Slam. \n",
            ", She is also an Olympic medalist, having won silver in women's singles at the 2012 London Olympics. \n",
            ", She has been considered as one of the best tennis competitors of her generation.\n",
            ", Sharapova became the world No. 1 for the first time on 22 August 2005 at the age of 18, becoming the first Russian woman to top the singles rankings, and last held the position on 8 July 2012. \n",
            ", She won five major titles — two at the French Open and one each at the Australian Open, Wimbledon, and the US Open., She won 36 titles in total, including the year-end championships on her debut in 2004. \n",
            ", She also won three doubles titles., Although she played under the banner of Russia with the WTA, she has lived in and been a United States permanent resident since 1994.]\n",
            "10\n"
          ]
        }
      ]
    },
    {
      "cell_type": "code",
      "source": [
        "sent_score = {}\n"
      ],
      "metadata": {
        "id": "hfYMD4avWWkB"
      },
      "execution_count": 134,
      "outputs": []
    },
    {
      "cell_type": "code",
      "source": [
        "for sent in sent_tokens:\n",
        "  for word in sent:\n",
        "    if word.text.lower() in word_freq.keys():\n",
        "      if sent not in sent_score.keys():\n",
        "        sent_score[sent] = word_freq[word.text.lower()]\n",
        "      else:\n",
        "        sent_score[sent] += word_freq[word.text.lower()]\n"
      ],
      "metadata": {
        "id": "ojmUQvwMZxg0"
      },
      "execution_count": 135,
      "outputs": []
    },
    {
      "cell_type": "code",
      "source": [
        "print(sent_score)"
      ],
      "metadata": {
        "colab": {
          "base_uri": "https://localhost:8080/"
        },
        "id": "ebusTG-nZxer",
        "outputId": "90a0d548-5ea2-41f5-b7fb-3fce832828a2"
      },
      "execution_count": 136,
      "outputs": [
        {
          "output_type": "stream",
          "name": "stdout",
          "text": [
            "{Maria Sharapova born 19 April 1987 is a Russian former world No. 1 tennis player. \n",
            ": 2.714285714285714, She competed on the WTA Tour from 2001 to 2020 and was ranked world No. 1 in singles by the Women's Tennis Association for 21 weeks.\n",
            ": 3.714285714285714, She is one of ten women to achieve the career Grand Slam. \n",
            ": 1.5714285714285714, She is also an Olympic medalist, having won silver in women's singles at the 2012 London Olympics. \n",
            ": 3.0, She has been considered as one of the best tennis competitors of her generation.\n",
            ": 1.857142857142857, Sharapova became the world No. 1 for the first time on 22 August 2005 at the age of 18, becoming the first Russian woman to top the singles rankings, and last held the position on 8 July 2012. \n",
            ": 3.999999999999999, She won five major titles — two at the French Open and one each at the Australian Open, Wimbledon, and the US Open.: 1.2857142857142856, She won 36 titles in total, including the year-end championships on her debut in 2004. \n",
            ": 3.1428571428571423, She also won three doubles titles.: 1.1428571428571428, Although she played under the banner of Russia with the WTA, she has lived in and been a United States permanent resident since 1994.: 0.857142857142857}\n"
          ]
        }
      ]
    },
    {
      "cell_type": "markdown",
      "source": [
        "Select 30% sentences with maximum score"
      ],
      "metadata": {
        "id": "SP2L2waEapSp"
      }
    },
    {
      "cell_type": "code",
      "source": [
        "from heapq import nlargest"
      ],
      "metadata": {
        "id": "FfJLXcKHZxbk"
      },
      "execution_count": 137,
      "outputs": []
    },
    {
      "cell_type": "code",
      "source": [
        "len(sent_score) * .3"
      ],
      "metadata": {
        "colab": {
          "base_uri": "https://localhost:8080/"
        },
        "id": "5VVXwt_Xa0Gy",
        "outputId": "bfdd84af-5c41-41bf-de1e-273fe2068221"
      },
      "execution_count": 138,
      "outputs": [
        {
          "output_type": "execute_result",
          "data": {
            "text/plain": [
              "3.0"
            ]
          },
          "metadata": {},
          "execution_count": 138
        }
      ]
    },
    {
      "cell_type": "markdown",
      "source": [
        "Summary"
      ],
      "metadata": {
        "id": "i_4v1iQsa66v"
      }
    },
    {
      "cell_type": "code",
      "source": [
        "summary = nlargest(n = 3, iterable = sent_score, key = sent_score.get)"
      ],
      "metadata": {
        "id": "v7ax9bila0D5"
      },
      "execution_count": 139,
      "outputs": []
    },
    {
      "cell_type": "code",
      "source": [
        "print(summary)"
      ],
      "metadata": {
        "colab": {
          "base_uri": "https://localhost:8080/"
        },
        "id": "kNa8oSedWWgo",
        "outputId": "b48c58ed-88d5-4a68-de20-19956f333ce0"
      },
      "execution_count": 140,
      "outputs": [
        {
          "output_type": "stream",
          "name": "stdout",
          "text": [
            "[Sharapova became the world No. 1 for the first time on 22 August 2005 at the age of 18, becoming the first Russian woman to top the singles rankings, and last held the position on 8 July 2012. \n",
            ", She competed on the WTA Tour from 2001 to 2020 and was ranked world No. 1 in singles by the Women's Tennis Association for 21 weeks.\n",
            ", She won 36 titles in total, including the year-end championships on her debut in 2004. \n",
            "]\n"
          ]
        }
      ]
    },
    {
      "cell_type": "code",
      "source": [
        "final_summary = [word.text for word in summary]\n",
        "\n",
        "final_summary"
      ],
      "metadata": {
        "colab": {
          "base_uri": "https://localhost:8080/"
        },
        "id": "PMgX77QkhzGi",
        "outputId": "c4989c5d-4438-4820-ba6b-a8ed6445eb84"
      },
      "execution_count": 141,
      "outputs": [
        {
          "output_type": "execute_result",
          "data": {
            "text/plain": [
              "['Sharapova became the world No. 1 for the first time on 22 August 2005 at the age of 18, becoming the first Russian woman to top the singles rankings, and last held the position on 8 July 2012. \\n',\n",
              " \"She competed on the WTA Tour from 2001 to 2020 and was ranked world No. 1 in singles by the Women's Tennis Association for 21 weeks.\\n\",\n",
              " 'She won 36 titles in total, including the year-end championships on her debut in 2004. \\n']"
            ]
          },
          "metadata": {},
          "execution_count": 141
        }
      ]
    },
    {
      "cell_type": "code",
      "source": [
        "print(len(text))"
      ],
      "metadata": {
        "colab": {
          "base_uri": "https://localhost:8080/"
        },
        "id": "olMlD7mAe0EI",
        "outputId": "4cb1e91f-5a3c-427b-e72a-2f3d5fe2d220"
      },
      "execution_count": 142,
      "outputs": [
        {
          "output_type": "stream",
          "name": "stdout",
          "text": [
            "1022\n"
          ]
        }
      ]
    },
    {
      "cell_type": "code",
      "source": [
        "final_summary = \" \".join(final_summary)\n",
        "final_summary"
      ],
      "metadata": {
        "colab": {
          "base_uri": "https://localhost:8080/",
          "height": 70
        },
        "id": "RM_UeKZMbNpU",
        "outputId": "5bb82c56-36db-4c4c-e64e-282a8447d7ea"
      },
      "execution_count": 143,
      "outputs": [
        {
          "output_type": "execute_result",
          "data": {
            "text/plain": [
              "\"Sharapova became the world No. 1 for the first time on 22 August 2005 at the age of 18, becoming the first Russian woman to top the singles rankings, and last held the position on 8 July 2012. \\n She competed on the WTA Tour from 2001 to 2020 and was ranked world No. 1 in singles by the Women's Tennis Association for 21 weeks.\\n She won 36 titles in total, including the year-end championships on her debut in 2004. \\n\""
            ],
            "application/vnd.google.colaboratory.intrinsic+json": {
              "type": "string"
            }
          },
          "metadata": {},
          "execution_count": 143
        }
      ]
    },
    {
      "cell_type": "code",
      "source": [
        "print(len(final_summary))"
      ],
      "metadata": {
        "colab": {
          "base_uri": "https://localhost:8080/"
        },
        "id": "Q4kXcZtGewGG",
        "outputId": "bfb384a2-4014-4f61-bb33-aaeaf3718853"
      },
      "execution_count": 144,
      "outputs": [
        {
          "output_type": "stream",
          "name": "stdout",
          "text": [
            "417\n"
          ]
        }
      ]
    },
    {
      "cell_type": "code",
      "source": [],
      "metadata": {
        "id": "hy9vBNWUis7D"
      },
      "execution_count": 144,
      "outputs": []
    }
  ]
}